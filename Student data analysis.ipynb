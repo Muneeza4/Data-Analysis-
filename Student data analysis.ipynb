{
 "cells": [
  {
   "cell_type": "code",
   "execution_count": null,
   "id": "522fe3a7",
   "metadata": {},
   "outputs": [],
   "source": [
    "import numpy as np\n",
    "import pandas as pd\n",
    "import matplotlib.pyplot as plt\n",
    "import seaborn as sns"
   ]
  },
  {
   "cell_type": "code",
   "execution_count": null,
   "id": "72ca6768",
   "metadata": {},
   "outputs": [],
   "source": [
    "data.describe()"
   ]
  },
  {
   "cell_type": "code",
   "execution_count": null,
   "id": "5d6032f6",
   "metadata": {},
   "outputs": [],
   "source": [
    "data.info()"
   ]
  },
  {
   "cell_type": "code",
   "execution_count": null,
   "id": "7c6a78de",
   "metadata": {},
   "outputs": [],
   "source": [
    "data.isnull().sum()"
   ]
  },
  {
   "cell_type": "code",
   "execution_count": null,
   "id": "d665aac9",
   "metadata": {},
   "outputs": [],
   "source": [
    "# Analytics questions:\n",
    "# What factors (features) affect test scores most?\n",
    "# Are there interacting features which affect test scores?"
   ]
  },
  {
   "cell_type": "code",
   "execution_count": null,
   "id": "ffe8f091",
   "metadata": {},
   "outputs": [],
   "source": [
    "Groupby1 = data.groupby(\"ParentEduc\").agg({\"MathScore\":\"mean\",\"ReadingScore\":\"mean\",\"WritingScore\":\"mean\"})\n",
    "print(Groupby1)"
   ]
  },
  {
   "cell_type": "code",
   "execution_count": null,
   "id": "289394fd",
   "metadata": {},
   "outputs": [],
   "source": [
    "sns.heatmap(Groupby1,annot = True)\n",
    "plt.show()"
   ]
  },
  {
   "cell_type": "code",
   "execution_count": null,
   "id": "86498390",
   "metadata": {},
   "outputs": [],
   "source": [
    "# Conclusion:- \n",
    "\n",
    "# IT is concluded that parents eduction has a great imapact on studies of child."
   ]
  },
  {
   "cell_type": "code",
   "execution_count": null,
   "id": "555cf108",
   "metadata": {},
   "outputs": [],
   "source": [
    "Groupby2 = data.groupby(\"ParentMaritalStatus\").agg({\"MathScore\":\"mean\",\"ReadingScore\":\"mean\",\"WritingScore\":\"mean\"})\n",
    "print(Groupby2)"
   ]
  },
  {
   "cell_type": "code",
   "execution_count": null,
   "id": "ed844324",
   "metadata": {},
   "outputs": [],
   "source": [
    "sns.heatmap(Groupby2, annot=True)\n",
    "plt.show()"
   ]
  },
  {
   "cell_type": "code",
   "execution_count": null,
   "id": "cd1d61ee",
   "metadata": {},
   "outputs": [],
   "source": [
    "Groupby3 = data.groupby(\"WklyStudyHours\").agg({\"MathScore\":\"mean\",\"ReadingScore\":\"mean\",\"WritingScore\":\"mean\"})\n",
    "print(Groupby3)"
   ]
  },
  {
   "cell_type": "code",
   "execution_count": null,
   "id": "77aa85b2",
   "metadata": {},
   "outputs": [],
   "source": [
    "plt.figure(figsize = (6,5))\n",
    "sns.heatmap(Groupby3, annot = True)\n",
    "plt.show()"
   ]
  },
  {
   "cell_type": "markdown",
   "id": "5d55baf9",
   "metadata": {},
   "source": [
    "# Outliers"
   ]
  },
  {
   "cell_type": "code",
   "execution_count": null,
   "id": "a7cbfb9a",
   "metadata": {},
   "outputs": [],
   "source": [
    "sns.boxplot(data=data,x=\"MathScore\")\n",
    "plt.show()"
   ]
  },
  {
   "cell_type": "code",
   "execution_count": null,
   "id": "049cf8f6",
   "metadata": {},
   "outputs": [],
   "source": [
    "sns.boxplot(data=data,x=\"WritingScore\")\n",
    "plt.show()"
   ]
  },
  {
   "cell_type": "code",
   "execution_count": null,
   "id": "1e4edcb4",
   "metadata": {},
   "outputs": [],
   "source": [
    "sns.boxplot(data=data,x=\"ReadingScore\")\n",
    "plt.show()"
   ]
  },
  {
   "cell_type": "code",
   "execution_count": null,
   "id": "e805bf0b",
   "metadata": {},
   "outputs": [],
   "source": [
    "# It seems that maths subject is difficult for student."
   ]
  },
  {
   "cell_type": "code",
   "execution_count": null,
   "id": "8a01a145",
   "metadata": {},
   "outputs": [],
   "source": [
    "print(data[\"EthnicGroup\"].unique())"
   ]
  },
  {
   "cell_type": "code",
   "execution_count": null,
   "id": "0eb01fcb",
   "metadata": {},
   "outputs": [],
   "source": [
    "groupA = data.loc[(data[\"EthnicGroup\"] == \"group A\")].count()\n",
    "print(groupA)"
   ]
  },
  {
   "cell_type": "code",
   "execution_count": null,
   "id": "5aef75f4",
   "metadata": {},
   "outputs": [],
   "source": [
    "groupA = data.loc[(data[\"EthnicGroup\"] == \"group A\")].count()\n",
    "groupB = data.loc[(data[\"EthnicGroup\"] == \"group B\")].count()\n",
    "groupC = data.loc[(data[\"EthnicGroup\"] == \"group C\")].count()\n",
    "groupD = data.loc[(data[\"EthnicGroup\"] == \"group D\")].count()\n",
    "groupE = data.loc[(data[\"EthnicGroup\"] == \"group E\")].count()\n",
    "\n",
    "mlist = [groupA[\"EthnicGroup\"],groupB[\"EthnicGroup\"],groupC[\"EthnicGroup\"],groupD[\"EthnicGroup\"],groupE[\"EthnicGroup\"]]\n",
    "l = [\"GroupA\",\"GroupB\",\"GroupC\",\"GroupD\",\"GroupE\"]    \n",
    "\n",
    "\n",
    "plt.pie(mlist,labels = l)\n",
    "plt.show()"
   ]
  }
 ],
 "metadata": {
  "kernelspec": {
   "display_name": "Python 3 (ipykernel)",
   "language": "python",
   "name": "python3"
  },
  "language_info": {
   "codemirror_mode": {
    "name": "ipython",
    "version": 3
   },
   "file_extension": ".py",
   "mimetype": "text/x-python",
   "name": "python",
   "nbconvert_exporter": "python",
   "pygments_lexer": "ipython3",
   "version": "3.11.5"
  }
 },
 "nbformat": 4,
 "nbformat_minor": 5
}
